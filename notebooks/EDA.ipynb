import nbformat as nbf

# Tu código Python como texto
code = """import pandas as pd
import plotly.express as px

car_data = pd.read_csv('vehicles_us.csv')  # leer los datos
fig = px.histogram(car_data, x="odometer")  # crear un histograma
fig.show()
"""

# Crear un notebook vacío
nb = nbf.v4.new_notebook()

# Agregar una celda de código con tu script
nb.cells.append(nbf.v4.new_code_cell(code))

# Guardar como notebook válido
with open("EDA_valid.ipynb",
"w") as f:
    nbf.write(nb, f)

print("Notebook creado correctamente: EDA_valid.ipynb")